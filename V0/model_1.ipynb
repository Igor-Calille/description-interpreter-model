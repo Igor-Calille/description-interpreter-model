{
 "cells": [
  {
   "cell_type": "code",
   "execution_count": 14,
   "metadata": {},
   "outputs": [
    {
     "name": "stdout",
     "output_type": "stream",
     "text": [
      "Collecting ray[tune]\n",
      "  Downloading ray-2.20.0-cp311-cp311-win_amd64.whl.metadata (13 kB)\n",
      "Collecting click>=7.0 (from ray[tune])\n",
      "  Downloading click-8.1.7-py3-none-any.whl.metadata (3.0 kB)\n",
      "Requirement already satisfied: filelock in c:\\users\\igorm\\appdata\\local\\programs\\python\\python311\\lib\\site-packages (from ray[tune]) (3.15.3)\n",
      "Collecting jsonschema (from ray[tune])\n",
      "  Downloading jsonschema-4.22.0-py3-none-any.whl.metadata (8.2 kB)\n",
      "Collecting msgpack<2.0.0,>=1.0.0 (from ray[tune])\n",
      "  Downloading msgpack-1.0.8-cp311-cp311-win_amd64.whl.metadata (9.4 kB)\n",
      "Requirement already satisfied: packaging in c:\\users\\igorm\\appdata\\roaming\\python\\python311\\site-packages (from ray[tune]) (24.1)\n",
      "Requirement already satisfied: protobuf!=3.19.5,>=3.15.3 in c:\\users\\igorm\\appdata\\local\\programs\\python\\python311\\lib\\site-packages (from ray[tune]) (5.27.1)\n",
      "Requirement already satisfied: pyyaml in c:\\users\\igorm\\appdata\\local\\programs\\python\\python311\\lib\\site-packages (from ray[tune]) (6.0.1)\n",
      "Collecting aiosignal (from ray[tune])\n",
      "  Downloading aiosignal-1.3.1-py3-none-any.whl.metadata (4.0 kB)\n",
      "Collecting frozenlist (from ray[tune])\n",
      "  Downloading frozenlist-1.4.1-cp311-cp311-win_amd64.whl.metadata (12 kB)\n",
      "Requirement already satisfied: requests in c:\\users\\igorm\\appdata\\local\\programs\\python\\python311\\lib\\site-packages (from ray[tune]) (2.32.3)\n",
      "Collecting pandas (from ray[tune])\n",
      "  Downloading pandas-2.2.2-cp311-cp311-win_amd64.whl.metadata (19 kB)\n",
      "Collecting tensorboardX>=1.9 (from ray[tune])\n",
      "  Downloading tensorboardX-2.6.2.2-py2.py3-none-any.whl.metadata (5.8 kB)\n",
      "Collecting pyarrow>=6.0.1 (from ray[tune])\n",
      "  Downloading pyarrow-16.1.0-cp311-cp311-win_amd64.whl.metadata (3.1 kB)\n",
      "Requirement already satisfied: fsspec in c:\\users\\igorm\\appdata\\local\\programs\\python\\python311\\lib\\site-packages (from ray[tune]) (2024.6.0)\n",
      "Requirement already satisfied: colorama in c:\\users\\igorm\\appdata\\roaming\\python\\python311\\site-packages (from click>=7.0->ray[tune]) (0.4.6)\n",
      "Requirement already satisfied: numpy>=1.16.6 in c:\\users\\igorm\\appdata\\local\\programs\\python\\python311\\lib\\site-packages (from pyarrow>=6.0.1->ray[tune]) (1.24.0)\n",
      "Collecting attrs>=22.2.0 (from jsonschema->ray[tune])\n",
      "  Using cached attrs-23.2.0-py3-none-any.whl.metadata (9.5 kB)\n",
      "Collecting jsonschema-specifications>=2023.03.6 (from jsonschema->ray[tune])\n",
      "  Using cached jsonschema_specifications-2023.12.1-py3-none-any.whl.metadata (3.0 kB)\n",
      "Collecting referencing>=0.28.4 (from jsonschema->ray[tune])\n",
      "  Downloading referencing-0.35.1-py3-none-any.whl.metadata (2.8 kB)\n",
      "Collecting rpds-py>=0.7.1 (from jsonschema->ray[tune])\n",
      "  Downloading rpds_py-0.18.1-cp311-none-win_amd64.whl.metadata (4.2 kB)\n",
      "Requirement already satisfied: python-dateutil>=2.8.2 in c:\\users\\igorm\\appdata\\roaming\\python\\python311\\site-packages (from pandas->ray[tune]) (2.9.0.post0)\n",
      "Collecting pytz>=2020.1 (from pandas->ray[tune])\n",
      "  Downloading pytz-2024.1-py2.py3-none-any.whl.metadata (22 kB)\n",
      "Collecting tzdata>=2022.7 (from pandas->ray[tune])\n",
      "  Downloading tzdata-2024.1-py2.py3-none-any.whl.metadata (1.4 kB)\n",
      "Requirement already satisfied: charset-normalizer<4,>=2 in c:\\users\\igorm\\appdata\\local\\programs\\python\\python311\\lib\\site-packages (from requests->ray[tune]) (3.3.2)\n",
      "Requirement already satisfied: idna<4,>=2.5 in c:\\users\\igorm\\appdata\\local\\programs\\python\\python311\\lib\\site-packages (from requests->ray[tune]) (3.7)\n",
      "Requirement already satisfied: urllib3<3,>=1.21.1 in c:\\users\\igorm\\appdata\\local\\programs\\python\\python311\\lib\\site-packages (from requests->ray[tune]) (2.2.2)\n",
      "Requirement already satisfied: certifi>=2017.4.17 in c:\\users\\igorm\\appdata\\local\\programs\\python\\python311\\lib\\site-packages (from requests->ray[tune]) (2024.6.2)\n",
      "Requirement already satisfied: six>=1.5 in c:\\users\\igorm\\appdata\\roaming\\python\\python311\\site-packages (from python-dateutil>=2.8.2->pandas->ray[tune]) (1.16.0)\n",
      "Downloading click-8.1.7-py3-none-any.whl (97 kB)\n",
      "   ---------------------------------------- 0.0/97.9 kB ? eta -:--:--\n",
      "   ---------------------------------------- 97.9/97.9 kB 5.8 MB/s eta 0:00:00\n",
      "Downloading msgpack-1.0.8-cp311-cp311-win_amd64.whl (75 kB)\n",
      "   ---------------------------------------- 0.0/75.2 kB ? eta -:--:--\n",
      "   ---------------------------------------- 75.2/75.2 kB ? eta 0:00:00\n",
      "Downloading pyarrow-16.1.0-cp311-cp311-win_amd64.whl (25.9 MB)\n",
      "   ---------------------------------------- 0.0/25.9 MB ? eta -:--:--\n",
      "   -------- ------------------------------- 5.4/25.9 MB 115.7 MB/s eta 0:00:01\n",
      "   ---------------- ----------------------- 11.0/25.9 MB 108.8 MB/s eta 0:00:01\n",
      "   ----------------------- ---------------- 15.5/25.9 MB 108.8 MB/s eta 0:00:01\n",
      "   ----------------------------- ---------- 19.1/25.9 MB 93.9 MB/s eta 0:00:01\n",
      "   -------------------------------- ------- 20.8/25.9 MB 72.6 MB/s eta 0:00:01\n",
      "   ---------------------------------- ----- 22.4/25.9 MB 59.5 MB/s eta 0:00:01\n",
      "   ------------------------------------- -- 24.1/25.9 MB 50.1 MB/s eta 0:00:01\n",
      "   ---------------------------------------  25.9/25.9 MB 43.7 MB/s eta 0:00:01\n",
      "   ---------------------------------------  25.9/25.9 MB 43.7 MB/s eta 0:00:01\n",
      "   ---------------------------------------  25.9/25.9 MB 43.7 MB/s eta 0:00:01\n",
      "   ---------------------------------------- 25.9/25.9 MB 29.7 MB/s eta 0:00:00\n",
      "Downloading tensorboardX-2.6.2.2-py2.py3-none-any.whl (101 kB)\n",
      "   ---------------------------------------- 0.0/101.7 kB ? eta -:--:--\n",
      "   ---------------------------------------- 101.7/101.7 kB 5.7 MB/s eta 0:00:00\n",
      "Downloading aiosignal-1.3.1-py3-none-any.whl (7.6 kB)\n",
      "Downloading frozenlist-1.4.1-cp311-cp311-win_amd64.whl (50 kB)\n",
      "   ---------------------------------------- 0.0/50.5 kB ? eta -:--:--\n",
      "   ---------------------------------------- 50.5/50.5 kB 2.5 MB/s eta 0:00:00\n",
      "Downloading jsonschema-4.22.0-py3-none-any.whl (88 kB)\n",
      "   ---------------------------------------- 0.0/88.3 kB ? eta -:--:--\n",
      "   ---------------------------------------- 88.3/88.3 kB 4.9 MB/s eta 0:00:00\n",
      "Downloading pandas-2.2.2-cp311-cp311-win_amd64.whl (11.6 MB)\n",
      "   ---------------------------------------- 0.0/11.6 MB ? eta -:--:--\n",
      "   ----- ---------------------------------- 1.7/11.6 MB 55.5 MB/s eta 0:00:01\n",
      "   ------------- -------------------------- 3.8/11.6 MB 48.6 MB/s eta 0:00:01\n",
      "   -------------------- ------------------- 6.0/11.6 MB 47.6 MB/s eta 0:00:01\n",
      "   ---------------------------- ----------- 8.3/11.6 MB 48.2 MB/s eta 0:00:01\n",
      "   ------------------------------------ --- 10.6/11.6 MB 46.7 MB/s eta 0:00:01\n",
      "   ---------------------------------------  11.6/11.6 MB 50.1 MB/s eta 0:00:01\n",
      "   ---------------------------------------- 11.6/11.6 MB 38.4 MB/s eta 0:00:00\n",
      "Downloading ray-2.20.0-cp311-cp311-win_amd64.whl (26.1 MB)\n",
      "   ---------------------------------------- 0.0/26.1 MB ? eta -:--:--\n",
      "   --- ------------------------------------ 2.2/26.1 MB 69.0 MB/s eta 0:00:01\n",
      "   ------- -------------------------------- 4.7/26.1 MB 60.3 MB/s eta 0:00:01\n",
      "   ----------- ---------------------------- 7.4/26.1 MB 59.4 MB/s eta 0:00:01\n",
      "   --------------- ------------------------ 10.1/26.1 MB 58.6 MB/s eta 0:00:01\n",
      "   -------------------- ------------------- 13.1/26.1 MB 59.8 MB/s eta 0:00:01\n",
      "   ------------------------ --------------- 16.0/26.1 MB 59.5 MB/s eta 0:00:01\n",
      "   ----------------------------- ---------- 19.2/26.1 MB 65.6 MB/s eta 0:00:01\n",
      "   ---------------------------------- ----- 22.6/26.1 MB 65.6 MB/s eta 0:00:01\n",
      "   ------------------------------------ --- 23.8/26.1 MB 65.6 MB/s eta 0:00:01\n",
      "   -------------------------------------- - 25.4/26.1 MB 50.4 MB/s eta 0:00:01\n",
      "   ---------------------------------------  26.1/26.1 MB 50.4 MB/s eta 0:00:01\n",
      "   ---------------------------------------  26.1/26.1 MB 50.4 MB/s eta 0:00:01\n",
      "   ---------------------------------------  26.1/26.1 MB 50.4 MB/s eta 0:00:01\n",
      "   ---------------------------------------  26.1/26.1 MB 50.4 MB/s eta 0:00:01\n",
      "   ---------------------------------------- 26.1/26.1 MB 25.1 MB/s eta 0:00:00\n",
      "Using cached attrs-23.2.0-py3-none-any.whl (60 kB)\n",
      "Using cached jsonschema_specifications-2023.12.1-py3-none-any.whl (18 kB)\n",
      "Downloading pytz-2024.1-py2.py3-none-any.whl (505 kB)\n",
      "   ---------------------------------------- 0.0/505.5 kB ? eta -:--:--\n",
      "   --------------------------------------- 505.5/505.5 kB 15.5 MB/s eta 0:00:00\n",
      "Downloading referencing-0.35.1-py3-none-any.whl (26 kB)\n",
      "Downloading rpds_py-0.18.1-cp311-none-win_amd64.whl (209 kB)\n",
      "   ---------------------------------------- 0.0/209.0 kB ? eta -:--:--\n",
      "   --------------------------------------- 209.0/209.0 kB 12.4 MB/s eta 0:00:00\n",
      "Downloading tzdata-2024.1-py2.py3-none-any.whl (345 kB)\n",
      "   ---------------------------------------- 0.0/345.4 kB ? eta -:--:--\n",
      "   --------------------------------------- 345.4/345.4 kB 22.3 MB/s eta 0:00:00\n",
      "Installing collected packages: pytz, tzdata, tensorboardX, rpds-py, pyarrow, msgpack, frozenlist, click, attrs, referencing, pandas, aiosignal, jsonschema-specifications, jsonschema, ray\n",
      "Successfully installed aiosignal-1.3.1 attrs-23.2.0 click-8.1.7 frozenlist-1.4.1 jsonschema-4.22.0 jsonschema-specifications-2023.12.1 msgpack-1.0.8 pandas-2.2.2 pyarrow-16.1.0 pytz-2024.1 ray-2.20.0 referencing-0.35.1 rpds-py-0.18.1 tensorboardX-2.6.2.2 tzdata-2024.1\n",
      "Collecting optuna\n",
      "  Downloading optuna-3.6.1-py3-none-any.whl.metadata (17 kB)\n",
      "Collecting alembic>=1.5.0 (from optuna)\n",
      "  Downloading alembic-1.13.1-py3-none-any.whl.metadata (7.4 kB)\n",
      "Collecting colorlog (from optuna)\n",
      "  Downloading colorlog-6.8.2-py3-none-any.whl.metadata (10 kB)\n",
      "Requirement already satisfied: numpy in c:\\users\\igorm\\appdata\\local\\programs\\python\\python311\\lib\\site-packages (from optuna) (1.24.0)\n",
      "Requirement already satisfied: packaging>=20.0 in c:\\users\\igorm\\appdata\\roaming\\python\\python311\\site-packages (from optuna) (24.1)\n",
      "Collecting sqlalchemy>=1.3.0 (from optuna)\n",
      "  Downloading SQLAlchemy-2.0.31-cp311-cp311-win_amd64.whl.metadata (9.9 kB)\n",
      "Requirement already satisfied: tqdm in c:\\users\\igorm\\appdata\\local\\programs\\python\\python311\\lib\\site-packages (from optuna) (4.66.4)\n",
      "Requirement already satisfied: PyYAML in c:\\users\\igorm\\appdata\\local\\programs\\python\\python311\\lib\\site-packages (from optuna) (6.0.1)\n",
      "Collecting Mako (from alembic>=1.5.0->optuna)\n",
      "  Downloading Mako-1.3.5-py3-none-any.whl.metadata (2.9 kB)\n",
      "Requirement already satisfied: typing-extensions>=4 in c:\\users\\igorm\\appdata\\roaming\\python\\python311\\site-packages (from alembic>=1.5.0->optuna) (4.12.2)\n",
      "Collecting greenlet!=0.4.17 (from sqlalchemy>=1.3.0->optuna)\n",
      "  Downloading greenlet-3.0.3-cp311-cp311-win_amd64.whl.metadata (3.9 kB)\n",
      "Requirement already satisfied: colorama in c:\\users\\igorm\\appdata\\roaming\\python\\python311\\site-packages (from colorlog->optuna) (0.4.6)\n",
      "Requirement already satisfied: MarkupSafe>=0.9.2 in c:\\users\\igorm\\appdata\\local\\programs\\python\\python311\\lib\\site-packages (from Mako->alembic>=1.5.0->optuna) (2.1.5)\n",
      "Downloading optuna-3.6.1-py3-none-any.whl (380 kB)\n",
      "   ---------------------------------------- 0.0/380.1 kB ? eta -:--:--\n",
      "   --------------------------------------- 380.1/380.1 kB 23.1 MB/s eta 0:00:00\n",
      "Downloading alembic-1.13.1-py3-none-any.whl (233 kB)\n",
      "   ---------------------------------------- 0.0/233.4 kB ? eta -:--:--\n",
      "   --------------------------------------- 233.4/233.4 kB 14.9 MB/s eta 0:00:00\n",
      "Downloading SQLAlchemy-2.0.31-cp311-cp311-win_amd64.whl (2.1 MB)\n",
      "   ---------------------------------------- 0.0/2.1 MB ? eta -:--:--\n",
      "   ---------------------------------------- 2.1/2.1 MB 66.8 MB/s eta 0:00:00\n",
      "Downloading colorlog-6.8.2-py3-none-any.whl (11 kB)\n",
      "Downloading greenlet-3.0.3-cp311-cp311-win_amd64.whl (292 kB)\n",
      "   ---------------------------------------- 0.0/292.8 kB ? eta -:--:--\n",
      "   --------------------------------------- 292.8/292.8 kB 17.7 MB/s eta 0:00:00\n",
      "Downloading Mako-1.3.5-py3-none-any.whl (78 kB)\n",
      "   ---------------------------------------- 0.0/78.6 kB ? eta -:--:--\n",
      "   ---------------------------------------- 78.6/78.6 kB 4.3 MB/s eta 0:00:00\n",
      "Installing collected packages: Mako, greenlet, colorlog, sqlalchemy, alembic, optuna\n",
      "Successfully installed Mako-1.3.5 alembic-1.13.1 colorlog-6.8.2 greenlet-3.0.3 optuna-3.6.1 sqlalchemy-2.0.31\n"
     ]
    }
   ],
   "source": [
    "!pip install ray[tune]\n",
    "!pip install optuna\n",
    "\n",
    "\n",
    "\n",
    "\n"
   ]
  },
  {
   "cell_type": "code",
   "execution_count": 3,
   "metadata": {},
   "outputs": [
    {
     "name": "stdout",
     "output_type": "stream",
     "text": [
      "c:\\Users\\igorm\\AppData\\Local\\Programs\\Python\\Python311\\python.exe\n",
      "3.11.0 (main, Oct 24 2022, 18:26:48) [MSC v.1933 64 bit (AMD64)]\n",
      "Requirement already satisfied: numpy in c:\\users\\igorm\\appdata\\local\\programs\\python\\python311\\lib\\site-packages (1.24.0)\n",
      "Requirement already satisfied: torch in c:\\users\\igorm\\appdata\\local\\programs\\python\\python311\\lib\\site-packages (2.3.1+cu118)\n",
      "Requirement already satisfied: filelock in c:\\users\\igorm\\appdata\\local\\programs\\python\\python311\\lib\\site-packages (from torch) (3.15.3)\n",
      "Requirement already satisfied: typing-extensions>=4.8.0 in c:\\users\\igorm\\appdata\\roaming\\python\\python311\\site-packages (from torch) (4.12.2)\n",
      "Requirement already satisfied: sympy in c:\\users\\igorm\\appdata\\local\\programs\\python\\python311\\lib\\site-packages (from torch) (1.12.1)\n",
      "Requirement already satisfied: networkx in c:\\users\\igorm\\appdata\\local\\programs\\python\\python311\\lib\\site-packages (from torch) (3.3)\n",
      "Requirement already satisfied: jinja2 in c:\\users\\igorm\\appdata\\local\\programs\\python\\python311\\lib\\site-packages (from torch) (3.1.4)\n",
      "Requirement already satisfied: fsspec in c:\\users\\igorm\\appdata\\local\\programs\\python\\python311\\lib\\site-packages (from torch) (2024.6.0)\n",
      "Requirement already satisfied: mkl<=2021.4.0,>=2021.1.1 in c:\\users\\igorm\\appdata\\local\\programs\\python\\python311\\lib\\site-packages (from torch) (2021.4.0)\n",
      "Requirement already satisfied: intel-openmp==2021.* in c:\\users\\igorm\\appdata\\local\\programs\\python\\python311\\lib\\site-packages (from mkl<=2021.4.0,>=2021.1.1->torch) (2021.4.0)\n",
      "Requirement already satisfied: tbb==2021.* in c:\\users\\igorm\\appdata\\local\\programs\\python\\python311\\lib\\site-packages (from mkl<=2021.4.0,>=2021.1.1->torch) (2021.12.0)\n",
      "Requirement already satisfied: MarkupSafe>=2.0 in c:\\users\\igorm\\appdata\\local\\programs\\python\\python311\\lib\\site-packages (from jinja2->torch) (2.1.5)\n",
      "Requirement already satisfied: mpmath<1.4.0,>=1.1.0 in c:\\users\\igorm\\appdata\\local\\programs\\python\\python311\\lib\\site-packages (from sympy->torch) (1.3.0)\n",
      "1.24.0\n",
      "Requirement already satisfied: transformers[torch] in c:\\users\\igorm\\appdata\\local\\programs\\python\\python311\\lib\\site-packages (4.41.2)\n",
      "Requirement already satisfied: filelock in c:\\users\\igorm\\appdata\\local\\programs\\python\\python311\\lib\\site-packages (from transformers[torch]) (3.15.3)\n",
      "Requirement already satisfied: huggingface-hub<1.0,>=0.23.0 in c:\\users\\igorm\\appdata\\local\\programs\\python\\python311\\lib\\site-packages (from transformers[torch]) (0.23.4)\n",
      "Requirement already satisfied: numpy>=1.17 in c:\\users\\igorm\\appdata\\local\\programs\\python\\python311\\lib\\site-packages (from transformers[torch]) (1.24.0)\n",
      "Requirement already satisfied: packaging>=20.0 in c:\\users\\igorm\\appdata\\roaming\\python\\python311\\site-packages (from transformers[torch]) (24.1)\n",
      "Requirement already satisfied: pyyaml>=5.1 in c:\\users\\igorm\\appdata\\local\\programs\\python\\python311\\lib\\site-packages (from transformers[torch]) (6.0.1)\n",
      "Requirement already satisfied: regex!=2019.12.17 in c:\\users\\igorm\\appdata\\local\\programs\\python\\python311\\lib\\site-packages (from transformers[torch]) (2024.5.15)\n",
      "Requirement already satisfied: requests in c:\\users\\igorm\\appdata\\local\\programs\\python\\python311\\lib\\site-packages (from transformers[torch]) (2.32.3)\n",
      "Requirement already satisfied: tokenizers<0.20,>=0.19 in c:\\users\\igorm\\appdata\\local\\programs\\python\\python311\\lib\\site-packages (from transformers[torch]) (0.19.1)\n",
      "Requirement already satisfied: safetensors>=0.4.1 in c:\\users\\igorm\\appdata\\local\\programs\\python\\python311\\lib\\site-packages (from transformers[torch]) (0.4.3)\n",
      "Requirement already satisfied: tqdm>=4.27 in c:\\users\\igorm\\appdata\\local\\programs\\python\\python311\\lib\\site-packages (from transformers[torch]) (4.66.4)\n",
      "Requirement already satisfied: torch in c:\\users\\igorm\\appdata\\local\\programs\\python\\python311\\lib\\site-packages (from transformers[torch]) (2.3.1+cu118)\n",
      "Requirement already satisfied: accelerate>=0.21.0 in c:\\users\\igorm\\appdata\\local\\programs\\python\\python311\\lib\\site-packages (from transformers[torch]) (0.31.0)\n",
      "Requirement already satisfied: psutil in c:\\users\\igorm\\appdata\\roaming\\python\\python311\\site-packages (from accelerate>=0.21.0->transformers[torch]) (6.0.0)\n",
      "Requirement already satisfied: fsspec>=2023.5.0 in c:\\users\\igorm\\appdata\\local\\programs\\python\\python311\\lib\\site-packages (from huggingface-hub<1.0,>=0.23.0->transformers[torch]) (2024.6.0)\n",
      "Requirement already satisfied: typing-extensions>=3.7.4.3 in c:\\users\\igorm\\appdata\\roaming\\python\\python311\\site-packages (from huggingface-hub<1.0,>=0.23.0->transformers[torch]) (4.12.2)\n",
      "Requirement already satisfied: sympy in c:\\users\\igorm\\appdata\\local\\programs\\python\\python311\\lib\\site-packages (from torch->transformers[torch]) (1.12.1)\n",
      "Requirement already satisfied: networkx in c:\\users\\igorm\\appdata\\local\\programs\\python\\python311\\lib\\site-packages (from torch->transformers[torch]) (3.3)\n",
      "Requirement already satisfied: jinja2 in c:\\users\\igorm\\appdata\\local\\programs\\python\\python311\\lib\\site-packages (from torch->transformers[torch]) (3.1.4)\n",
      "Requirement already satisfied: mkl<=2021.4.0,>=2021.1.1 in c:\\users\\igorm\\appdata\\local\\programs\\python\\python311\\lib\\site-packages (from torch->transformers[torch]) (2021.4.0)\n",
      "Requirement already satisfied: colorama in c:\\users\\igorm\\appdata\\roaming\\python\\python311\\site-packages (from tqdm>=4.27->transformers[torch]) (0.4.6)\n",
      "Requirement already satisfied: charset-normalizer<4,>=2 in c:\\users\\igorm\\appdata\\local\\programs\\python\\python311\\lib\\site-packages (from requests->transformers[torch]) (3.3.2)\n",
      "Requirement already satisfied: idna<4,>=2.5 in c:\\users\\igorm\\appdata\\local\\programs\\python\\python311\\lib\\site-packages (from requests->transformers[torch]) (3.7)\n",
      "Requirement already satisfied: urllib3<3,>=1.21.1 in c:\\users\\igorm\\appdata\\local\\programs\\python\\python311\\lib\\site-packages (from requests->transformers[torch]) (2.2.2)\n",
      "Requirement already satisfied: certifi>=2017.4.17 in c:\\users\\igorm\\appdata\\local\\programs\\python\\python311\\lib\\site-packages (from requests->transformers[torch]) (2024.6.2)\n",
      "Requirement already satisfied: intel-openmp==2021.* in c:\\users\\igorm\\appdata\\local\\programs\\python\\python311\\lib\\site-packages (from mkl<=2021.4.0,>=2021.1.1->torch->transformers[torch]) (2021.4.0)\n",
      "Requirement already satisfied: tbb==2021.* in c:\\users\\igorm\\appdata\\local\\programs\\python\\python311\\lib\\site-packages (from mkl<=2021.4.0,>=2021.1.1->torch->transformers[torch]) (2021.12.0)\n",
      "Requirement already satisfied: MarkupSafe>=2.0 in c:\\users\\igorm\\appdata\\local\\programs\\python\\python311\\lib\\site-packages (from jinja2->torch->transformers[torch]) (2.1.5)\n",
      "Requirement already satisfied: mpmath<1.4.0,>=1.1.0 in c:\\users\\igorm\\appdata\\local\\programs\\python\\python311\\lib\\site-packages (from sympy->torch->transformers[torch]) (1.3.0)\n",
      "Requirement already satisfied: transformers in c:\\users\\igorm\\appdata\\local\\programs\\python\\python311\\lib\\site-packages (4.41.2)\n",
      "Requirement already satisfied: filelock in c:\\users\\igorm\\appdata\\local\\programs\\python\\python311\\lib\\site-packages (from transformers) (3.15.3)\n",
      "Requirement already satisfied: huggingface-hub<1.0,>=0.23.0 in c:\\users\\igorm\\appdata\\local\\programs\\python\\python311\\lib\\site-packages (from transformers) (0.23.4)\n",
      "Requirement already satisfied: numpy>=1.17 in c:\\users\\igorm\\appdata\\local\\programs\\python\\python311\\lib\\site-packages (from transformers) (1.24.0)\n",
      "Requirement already satisfied: packaging>=20.0 in c:\\users\\igorm\\appdata\\roaming\\python\\python311\\site-packages (from transformers) (24.1)\n",
      "Requirement already satisfied: pyyaml>=5.1 in c:\\users\\igorm\\appdata\\local\\programs\\python\\python311\\lib\\site-packages (from transformers) (6.0.1)\n",
      "Requirement already satisfied: regex!=2019.12.17 in c:\\users\\igorm\\appdata\\local\\programs\\python\\python311\\lib\\site-packages (from transformers) (2024.5.15)\n",
      "Requirement already satisfied: requests in c:\\users\\igorm\\appdata\\local\\programs\\python\\python311\\lib\\site-packages (from transformers) (2.32.3)\n",
      "Requirement already satisfied: tokenizers<0.20,>=0.19 in c:\\users\\igorm\\appdata\\local\\programs\\python\\python311\\lib\\site-packages (from transformers) (0.19.1)\n",
      "Requirement already satisfied: safetensors>=0.4.1 in c:\\users\\igorm\\appdata\\local\\programs\\python\\python311\\lib\\site-packages (from transformers) (0.4.3)\n",
      "Requirement already satisfied: tqdm>=4.27 in c:\\users\\igorm\\appdata\\local\\programs\\python\\python311\\lib\\site-packages (from transformers) (4.66.4)\n",
      "Requirement already satisfied: fsspec>=2023.5.0 in c:\\users\\igorm\\appdata\\local\\programs\\python\\python311\\lib\\site-packages (from huggingface-hub<1.0,>=0.23.0->transformers) (2024.6.0)\n",
      "Requirement already satisfied: typing-extensions>=3.7.4.3 in c:\\users\\igorm\\appdata\\roaming\\python\\python311\\site-packages (from huggingface-hub<1.0,>=0.23.0->transformers) (4.12.2)\n",
      "Requirement already satisfied: colorama in c:\\users\\igorm\\appdata\\roaming\\python\\python311\\site-packages (from tqdm>=4.27->transformers) (0.4.6)\n",
      "Requirement already satisfied: charset-normalizer<4,>=2 in c:\\users\\igorm\\appdata\\local\\programs\\python\\python311\\lib\\site-packages (from requests->transformers) (3.3.2)\n",
      "Requirement already satisfied: idna<4,>=2.5 in c:\\users\\igorm\\appdata\\local\\programs\\python\\python311\\lib\\site-packages (from requests->transformers) (3.7)\n",
      "Requirement already satisfied: urllib3<3,>=1.21.1 in c:\\users\\igorm\\appdata\\local\\programs\\python\\python311\\lib\\site-packages (from requests->transformers) (2.2.2)\n",
      "Requirement already satisfied: certifi>=2017.4.17 in c:\\users\\igorm\\appdata\\local\\programs\\python\\python311\\lib\\site-packages (from requests->transformers) (2024.6.2)\n",
      "Requirement already satisfied: scikit-learn in c:\\users\\igorm\\appdata\\local\\programs\\python\\python311\\lib\\site-packages (1.5.0)\n",
      "Requirement already satisfied: numpy>=1.19.5 in c:\\users\\igorm\\appdata\\local\\programs\\python\\python311\\lib\\site-packages (from scikit-learn) (1.24.0)\n",
      "Requirement already satisfied: scipy>=1.6.0 in c:\\users\\igorm\\appdata\\local\\programs\\python\\python311\\lib\\site-packages (from scikit-learn) (1.13.1)\n",
      "Requirement already satisfied: joblib>=1.2.0 in c:\\users\\igorm\\appdata\\local\\programs\\python\\python311\\lib\\site-packages (from scikit-learn) (1.4.2)\n",
      "Requirement already satisfied: threadpoolctl>=3.1.0 in c:\\users\\igorm\\appdata\\local\\programs\\python\\python311\\lib\\site-packages (from scikit-learn) (3.5.0)\n",
      "Requirement already satisfied: sentencepiece in c:\\users\\igorm\\appdata\\local\\programs\\python\\python311\\lib\\site-packages (0.2.0)\n",
      "Requirement already satisfied: protobuf in c:\\users\\igorm\\appdata\\local\\programs\\python\\python311\\lib\\site-packages (5.27.1)\n",
      "Looking in indexes: https://pypi.org/simple, https://download.pytorch.org/whl/cu118\n",
      "Requirement already satisfied: torch in c:\\users\\igorm\\appdata\\local\\programs\\python\\python311\\lib\\site-packages (2.3.1+cu118)\n",
      "Requirement already satisfied: torchvision in c:\\users\\igorm\\appdata\\local\\programs\\python\\python311\\lib\\site-packages (0.18.1+cu118)\n",
      "Requirement already satisfied: torchaudio in c:\\users\\igorm\\appdata\\local\\programs\\python\\python311\\lib\\site-packages (2.3.1+cu118)\n",
      "Requirement already satisfied: filelock in c:\\users\\igorm\\appdata\\local\\programs\\python\\python311\\lib\\site-packages (from torch) (3.15.3)\n",
      "Requirement already satisfied: typing-extensions>=4.8.0 in c:\\users\\igorm\\appdata\\roaming\\python\\python311\\site-packages (from torch) (4.12.2)\n",
      "Requirement already satisfied: sympy in c:\\users\\igorm\\appdata\\local\\programs\\python\\python311\\lib\\site-packages (from torch) (1.12.1)\n",
      "Requirement already satisfied: networkx in c:\\users\\igorm\\appdata\\local\\programs\\python\\python311\\lib\\site-packages (from torch) (3.3)\n",
      "Requirement already satisfied: jinja2 in c:\\users\\igorm\\appdata\\local\\programs\\python\\python311\\lib\\site-packages (from torch) (3.1.4)\n",
      "Requirement already satisfied: fsspec in c:\\users\\igorm\\appdata\\local\\programs\\python\\python311\\lib\\site-packages (from torch) (2024.6.0)\n",
      "Requirement already satisfied: mkl<=2021.4.0,>=2021.1.1 in c:\\users\\igorm\\appdata\\local\\programs\\python\\python311\\lib\\site-packages (from torch) (2021.4.0)\n",
      "Requirement already satisfied: numpy in c:\\users\\igorm\\appdata\\local\\programs\\python\\python311\\lib\\site-packages (from torchvision) (1.24.0)\n",
      "Requirement already satisfied: pillow!=8.3.*,>=5.3.0 in c:\\users\\igorm\\appdata\\local\\programs\\python\\python311\\lib\\site-packages (from torchvision) (10.3.0)\n",
      "Requirement already satisfied: intel-openmp==2021.* in c:\\users\\igorm\\appdata\\local\\programs\\python\\python311\\lib\\site-packages (from mkl<=2021.4.0,>=2021.1.1->torch) (2021.4.0)\n",
      "Requirement already satisfied: tbb==2021.* in c:\\users\\igorm\\appdata\\local\\programs\\python\\python311\\lib\\site-packages (from mkl<=2021.4.0,>=2021.1.1->torch) (2021.12.0)\n",
      "Requirement already satisfied: MarkupSafe>=2.0 in c:\\users\\igorm\\appdata\\local\\programs\\python\\python311\\lib\\site-packages (from jinja2->torch) (2.1.5)\n",
      "Requirement already satisfied: mpmath<1.4.0,>=1.1.0 in c:\\users\\igorm\\appdata\\local\\programs\\python\\python311\\lib\\site-packages (from sympy->torch) (1.3.0)\n"
     ]
    }
   ],
   "source": [
    "import sys\n",
    "print(sys.executable)\n",
    "print(sys.version)\n",
    "\n",
    "!pip install numpy\n",
    "!pip install torch\n",
    "import numpy\n",
    "print(numpy.__version__)\n",
    "\n",
    "!pip install transformers[torch]\n",
    "!pip install transformers\n",
    "!pip install scikit-learn\n",
    "!pip install sentencepiece\n",
    "!pip install protobuf\n",
    "\n",
    "!pip install torch torchvision torchaudio --extra-index-url https://download.pytorch.org/whl/cu118\n",
    "\n",
    "\n"
   ]
  },
  {
   "cell_type": "code",
   "execution_count": 23,
   "metadata": {},
   "outputs": [
    {
     "name": "stdout",
     "output_type": "stream",
     "text": [
      "GPU disponivel\n",
      "Número de GPUs disponíveis: 1\n",
      "Nome da GPU: NVIDIA GeForce RTX 2070\n"
     ]
    }
   ],
   "source": [
    "\n",
    "import torch\n",
    "if torch.cuda.is_available():\n",
    "    device = torch.device(\"cuda\")\n",
    "    print('GPU disponivel')\n",
    "    print('Número de GPUs disponíveis:', torch.cuda.device_count())\n",
    "    print('Nome da GPU:', torch.cuda.get_device_name(0))\n",
    "\n",
    "else:\n",
    "    device = torch.device('cpu')\n",
    "    print('GPU nao disponivel, utilizando CPU')"
   ]
  },
  {
   "cell_type": "code",
   "execution_count": 24,
   "metadata": {},
   "outputs": [],
   "source": [
    "import re\n",
    "def preprocess_text(text):\n",
    "    # Remove caracteres especiais e múltiplos espaços\n",
    "    text = re.sub(r'\\s+', ' ', text)  # Remove múltiplos espaços\n",
    "    text = re.sub(r'[^\\w\\s,]', '', text)  # Remove caracteres especiais, exceto vírgulas\n",
    "    \n",
    "    # Converte para minúsculas\n",
    "    text = text.lower()\n",
    "    \n",
    "    # Remove palavras irrelevantes (exemplo)\n",
    "    irrelevant_words = ['marca', 'oem', 'descrição', 'características', 'condição do item', 'novo', 'frequentes', 'produto', 'nota fiscal', \n",
    "                        'garantia', 'meses', 'suporte', 'horário de atendimento', 'equipes']\n",
    "    \n",
    "    for word in irrelevant_words:\n",
    "        text = re.sub(r'\\b' + word + r'\\b', '', text)\n",
    "    \n",
    "    # Padronização do formato\n",
    "    text = re.sub(r'\\s+', ' ', text).strip()\n",
    "    \n",
    "    return text"
   ]
  },
  {
   "cell_type": "code",
   "execution_count": 25,
   "metadata": {},
   "outputs": [],
   "source": [
    "import json\n",
    "from sklearn.model_selection import train_test_split\n",
    "\n",
    "with open('output.json', encoding='utf-8') as f:\n",
    "    data = json.load(f)\n",
    "\n",
    "inputs = [item['input'] for item in data]\n",
    "outputs = [\n",
    "    f\"code: {item['output']['catalog_catalog.code']} description: {item['output']['catalog_catalog.description']} \"\n",
    "    f\"full_description: {item['output']['catalog_catalog.full_description']} similar_parts: {item['output']['catalog_catalog.similar_parts']} \"\n",
    "    f\"application_table: {item['output']['catalog_catalog.application_table']} brand_producer: {item['output']['catalog_catalog.brand_producer']}\"\n",
    "    for item in data\n",
    "]\n",
    "\n",
    "inputs = [preprocess_text(text) for text in inputs]\n"
   ]
  },
  {
   "cell_type": "code",
   "execution_count": 26,
   "metadata": {},
   "outputs": [],
   "source": [
    "train_inputs, test_inputs, train_outputs, test_outputs = train_test_split(inputs, outputs, test_size=0.2, random_state=42)\n"
   ]
  },
  {
   "cell_type": "code",
   "execution_count": 27,
   "metadata": {},
   "outputs": [],
   "source": [
    "from transformers import AutoTokenizer, T5ForConditionalGeneration, Trainer, TrainingArguments\n",
    "from torch.utils.data import Dataset, DataLoader\n",
    "\n",
    "model_name = \"unicamp-dl/ptt5-base-portuguese-vocab\"\n",
    "tokenizer = AutoTokenizer.from_pretrained(model_name)\n",
    "model = T5ForConditionalGeneration.from_pretrained(model_name).to(device)\n",
    "\n",
    "class T5Dataset(Dataset):\n",
    "    def __init__(self, inputs, outputs, tokenizer, max_length=512):\n",
    "        self.inputs = inputs\n",
    "        self.outputs = outputs\n",
    "        self.tokenizer = tokenizer\n",
    "        self.max_length = max_length\n",
    "\n",
    "    def __len__(self):\n",
    "        return len(self.inputs)\n",
    "\n",
    "    def __getitem__(self, idx):\n",
    "        input_text = self.inputs[idx]\n",
    "        output_text = self.outputs[idx]\n",
    "\n",
    "        # Tokenização\n",
    "        input_encoding = self.tokenizer(\n",
    "            input_text, padding='max_length', truncation=True, max_length=self.max_length, return_tensors='pt'\n",
    "        )\n",
    "        output_encoding = self.tokenizer(\n",
    "            output_text, padding='max_length', truncation=True, max_length=self.max_length, return_tensors='pt'\n",
    "        )\n",
    "\n",
    "        input_ids = input_encoding['input_ids'].squeeze()\n",
    "        attention_mask = input_encoding['attention_mask']\n",
    "        labels = output_encoding['input_ids'].squeeze()\n",
    "\n",
    "        return {\n",
    "            'input_ids': input_ids,\n",
    "            'attention_mask': attention_mask,\n",
    "            'labels': labels\n",
    "        }\n",
    "    \n",
    "train_dataset = T5Dataset(train_inputs, train_outputs, tokenizer)\n",
    "test_dataset = T5Dataset(test_inputs, test_outputs, tokenizer)\n",
    "\n",
    "\n",
    "\n",
    "train_loader = DataLoader(train_dataset, batch_size=8, shuffle=True)\n",
    "test_loader = DataLoader(test_dataset, batch_size=8)"
   ]
  },
  {
   "cell_type": "code",
   "execution_count": 28,
   "metadata": {},
   "outputs": [
    {
     "name": "stdout",
     "output_type": "stream",
     "text": [
      "Results directory exists: True\n",
      "Logs directory exists: True\n"
     ]
    },
    {
     "name": "stderr",
     "output_type": "stream",
     "text": [
      "                                                \r"
     ]
    },
    {
     "name": "stdout",
     "output_type": "stream",
     "text": [
      "{'loss': 35.7334, 'grad_norm': 85.39697265625, 'learning_rate': 1.0000000000000002e-06, 'epoch': 0.24}\n"
     ]
    },
    {
     "name": "stderr",
     "output_type": "stream",
     "text": [
      "  6%|▌         | 10/164 [01:27<22:21,  8.71s/it]\n",
      "  0%|          | 0/11 [00:00<?, ?it/s]\n",
      " 18%|█▊        | 2/11 [00:01<00:05,  1.55it/s]\n",
      " 27%|██▋       | 3/11 [00:02<00:07,  1.08it/s]\n",
      " 36%|███▋      | 4/11 [00:03<00:07,  1.07s/it]\n",
      " 45%|████▌     | 5/11 [00:05<00:06,  1.15s/it]\n",
      " 55%|█████▍    | 6/11 [00:06<00:05,  1.19s/it]\n",
      " 64%|██████▎   | 7/11 [00:07<00:04,  1.23s/it]\n",
      " 73%|███████▎  | 8/11 [00:09<00:03,  1.26s/it]\n",
      " 82%|████████▏ | 9/11 [00:10<00:02,  1.27s/it]\n",
      " 91%|█████████ | 10/11 [00:11<00:01,  1.27s/it]\n",
      "100%|██████████| 11/11 [00:12<00:00,  1.26s/it]\n",
      "                                                \r"
     ]
    },
    {
     "name": "stdout",
     "output_type": "stream",
     "text": [
      "{'eval_loss': 49.64768981933594, 'eval_runtime': 13.4877, 'eval_samples_per_second': 3.04, 'eval_steps_per_second': 0.816, 'epoch': 0.24}\n"
     ]
    },
    {
     "name": "stderr",
     "output_type": "stream",
     "text": [
      "\n",
      "  6%|▌         | 10/164 [01:40<22:21,  8.71s/it]\n",
      "                                                \r"
     ]
    },
    {
     "name": "stdout",
     "output_type": "stream",
     "text": [
      "{'loss': 35.6071, 'grad_norm': 66.11956787109375, 'learning_rate': 2.0000000000000003e-06, 'epoch': 0.49}\n"
     ]
    },
    {
     "name": "stderr",
     "output_type": "stream",
     "text": [
      " 12%|█▏        | 20/164 [03:19<21:16,  8.86s/it]\n",
      "  0%|          | 0/11 [00:00<?, ?it/s]\n",
      " 18%|█▊        | 2/11 [00:00<00:04,  2.12it/s]\n",
      " 27%|██▋       | 3/11 [00:01<00:05,  1.51it/s]\n",
      " 36%|███▋      | 4/11 [00:02<00:05,  1.31it/s]\n",
      " 45%|████▌     | 5/11 [00:03<00:04,  1.21it/s]\n",
      " 55%|█████▍    | 6/11 [00:04<00:04,  1.16it/s]\n",
      " 64%|██████▎   | 7/11 [00:05<00:03,  1.12it/s]\n",
      " 73%|███████▎  | 8/11 [00:06<00:02,  1.11it/s]\n",
      " 82%|████████▏ | 9/11 [00:07<00:01,  1.10it/s]\n",
      " 91%|█████████ | 10/11 [00:08<00:00,  1.09it/s]\n",
      "100%|██████████| 11/11 [00:09<00:00,  1.11it/s]\n",
      "                                                \r"
     ]
    },
    {
     "name": "stdout",
     "output_type": "stream",
     "text": [
      "{'eval_loss': 49.15605926513672, 'eval_runtime': 9.51, 'eval_samples_per_second': 4.311, 'eval_steps_per_second': 1.157, 'epoch': 0.49}\n"
     ]
    },
    {
     "name": "stderr",
     "output_type": "stream",
     "text": [
      "\n",
      " 12%|█▏        | 20/164 [03:28<21:16,  8.86s/it]\n",
      "                                                \r"
     ]
    },
    {
     "name": "stdout",
     "output_type": "stream",
     "text": [
      "{'loss': 35.8681, 'grad_norm': 78.52169036865234, 'learning_rate': 3e-06, 'epoch': 0.73}\n"
     ]
    },
    {
     "name": "stderr",
     "output_type": "stream",
     "text": [
      " 18%|█▊        | 30/164 [05:13<22:41, 10.16s/it]\n",
      "  0%|          | 0/11 [00:00<?, ?it/s]\n",
      " 18%|█▊        | 2/11 [00:01<00:07,  1.22it/s]\n",
      " 27%|██▋       | 3/11 [00:03<00:09,  1.17s/it]\n",
      " 36%|███▋      | 4/11 [00:04<00:09,  1.34s/it]\n",
      " 45%|████▌     | 5/11 [00:06<00:08,  1.44s/it]\n",
      " 55%|█████▍    | 6/11 [00:08<00:07,  1.50s/it]\n",
      " 64%|██████▎   | 7/11 [00:09<00:06,  1.55s/it]\n",
      " 73%|███████▎  | 8/11 [00:11<00:04,  1.58s/it]\n",
      " 82%|████████▏ | 9/11 [00:13<00:03,  1.60s/it]\n",
      " 91%|█████████ | 10/11 [00:14<00:01,  1.61s/it]\n",
      "100%|██████████| 11/11 [00:16<00:00,  1.57s/it]\n",
      "                                                \r"
     ]
    },
    {
     "name": "stdout",
     "output_type": "stream",
     "text": [
      "{'eval_loss': 48.29808044433594, 'eval_runtime': 16.5861, 'eval_samples_per_second': 2.472, 'eval_steps_per_second': 0.663, 'epoch': 0.73}\n"
     ]
    },
    {
     "name": "stderr",
     "output_type": "stream",
     "text": [
      "\n",
      " 18%|█▊        | 30/164 [05:30<22:41, 10.16s/it]\n",
      "                                                \r"
     ]
    },
    {
     "name": "stdout",
     "output_type": "stream",
     "text": [
      "{'loss': 34.6031, 'grad_norm': 71.70447540283203, 'learning_rate': 4.000000000000001e-06, 'epoch': 0.98}\n"
     ]
    },
    {
     "name": "stderr",
     "output_type": "stream",
     "text": [
      " 24%|██▍       | 40/164 [07:19<20:22,  9.86s/it]\n",
      "  0%|          | 0/11 [00:00<?, ?it/s]\n",
      " 18%|█▊        | 2/11 [00:02<00:09,  1.04s/it]\n",
      " 27%|██▋       | 3/11 [00:04<00:11,  1.47s/it]\n",
      " 36%|███▋      | 4/11 [00:06<00:11,  1.70s/it]\n",
      " 45%|████▌     | 5/11 [00:08<00:10,  1.83s/it]\n",
      " 55%|█████▍    | 6/11 [00:10<00:09,  1.91s/it]\n",
      " 64%|██████▎   | 7/11 [00:12<00:07,  1.97s/it]\n",
      " 73%|███████▎  | 8/11 [00:14<00:06,  2.01s/it]\n",
      " 82%|████████▏ | 9/11 [00:16<00:04,  2.03s/it]\n",
      " 91%|█████████ | 10/11 [00:18<00:02,  2.04s/it]\n",
      "100%|██████████| 11/11 [00:20<00:00,  1.99s/it]\n",
      "                                                \r"
     ]
    },
    {
     "name": "stdout",
     "output_type": "stream",
     "text": [
      "{'eval_loss': 47.021240234375, 'eval_runtime': 21.276, 'eval_samples_per_second': 1.927, 'eval_steps_per_second': 0.517, 'epoch': 0.98}\n"
     ]
    },
    {
     "name": "stderr",
     "output_type": "stream",
     "text": [
      "\n",
      " 24%|██▍       | 40/164 [07:40<20:22,  9.86s/it]\n",
      "                                                \r"
     ]
    },
    {
     "name": "stdout",
     "output_type": "stream",
     "text": [
      "{'loss': 33.329, 'grad_norm': 103.0997543334961, 'learning_rate': 5e-06, 'epoch': 1.22}\n"
     ]
    },
    {
     "name": "stderr",
     "output_type": "stream",
     "text": [
      " 30%|███       | 50/164 [09:32<20:53, 10.99s/it]\n",
      "  0%|          | 0/11 [00:00<?, ?it/s]\n",
      " 18%|█▊        | 2/11 [00:03<00:15,  1.74s/it]\n",
      " 27%|██▋       | 3/11 [00:06<00:19,  2.46s/it]\n",
      " 36%|███▋      | 4/11 [00:10<00:19,  2.85s/it]\n",
      " 45%|████▌     | 5/11 [00:13<00:18,  3.07s/it]\n",
      " 55%|█████▍    | 6/11 [00:17<00:16,  3.21s/it]\n",
      " 64%|██████▎   | 7/11 [00:20<00:13,  3.30s/it]\n",
      " 73%|███████▎  | 8/11 [00:24<00:10,  3.35s/it]\n",
      " 82%|████████▏ | 9/11 [00:27<00:06,  3.39s/it]\n",
      " 91%|█████████ | 10/11 [00:31<00:03,  3.42s/it]\n",
      "100%|██████████| 11/11 [00:34<00:00,  3.31s/it]\n",
      "                                                \r"
     ]
    },
    {
     "name": "stdout",
     "output_type": "stream",
     "text": [
      "{'eval_loss': 45.30961608886719, 'eval_runtime': 35.4289, 'eval_samples_per_second': 1.157, 'eval_steps_per_second': 0.31, 'epoch': 1.22}\n"
     ]
    },
    {
     "name": "stderr",
     "output_type": "stream",
     "text": [
      "\n",
      " 30%|███       | 50/164 [10:07<20:53, 10.99s/it]\n",
      "                                                \r"
     ]
    },
    {
     "name": "stdout",
     "output_type": "stream",
     "text": [
      "{'loss': 31.6815, 'grad_norm': 144.8348388671875, 'learning_rate': 6e-06, 'epoch': 1.46}\n"
     ]
    },
    {
     "name": "stderr",
     "output_type": "stream",
     "text": [
      " 37%|███▋      | 60/164 [12:04<19:28, 11.24s/it]\n",
      "  0%|          | 0/11 [00:00<?, ?it/s]\n",
      " 18%|█▊        | 2/11 [00:03<00:15,  1.73s/it]\n",
      " 27%|██▋       | 3/11 [00:06<00:19,  2.46s/it]\n",
      " 36%|███▋      | 4/11 [00:10<00:19,  2.84s/it]\n",
      " 45%|████▌     | 5/11 [00:13<00:18,  3.07s/it]\n",
      " 55%|█████▍    | 6/11 [00:17<00:15,  3.20s/it]\n",
      " 64%|██████▎   | 7/11 [00:20<00:13,  3.29s/it]\n",
      " 73%|███████▎  | 8/11 [00:24<00:10,  3.36s/it]\n",
      " 82%|████████▏ | 9/11 [00:27<00:06,  3.40s/it]\n",
      " 91%|█████████ | 10/11 [00:31<00:03,  3.42s/it]\n",
      "100%|██████████| 11/11 [00:34<00:00,  3.30s/it]\n",
      "                                                \r"
     ]
    },
    {
     "name": "stdout",
     "output_type": "stream",
     "text": [
      "{'eval_loss': 43.22212600708008, 'eval_runtime': 35.4289, 'eval_samples_per_second': 1.157, 'eval_steps_per_second': 0.31, 'epoch': 1.46}\n"
     ]
    },
    {
     "name": "stderr",
     "output_type": "stream",
     "text": [
      "\n",
      " 37%|███▋      | 60/164 [12:40<19:28, 11.24s/it]\n",
      "                                                \r"
     ]
    },
    {
     "name": "stdout",
     "output_type": "stream",
     "text": [
      "{'loss': 29.9743, 'grad_norm': 116.1477279663086, 'learning_rate': 7.000000000000001e-06, 'epoch': 1.71}\n"
     ]
    },
    {
     "name": "stderr",
     "output_type": "stream",
     "text": [
      " 43%|████▎     | 70/164 [14:31<17:13, 10.99s/it]\n",
      "  0%|          | 0/11 [00:00<?, ?it/s]\n",
      " 18%|█▊        | 2/11 [00:02<00:13,  1.45s/it]\n",
      " 27%|██▋       | 3/11 [00:05<00:16,  2.05s/it]\n",
      " 36%|███▋      | 4/11 [00:08<00:16,  2.38s/it]\n",
      " 45%|████▌     | 5/11 [00:11<00:15,  2.56s/it]\n",
      " 55%|█████▍    | 6/11 [00:14<00:13,  2.68s/it]\n",
      " 64%|██████▎   | 7/11 [00:17<00:10,  2.75s/it]\n",
      " 73%|███████▎  | 8/11 [00:20<00:08,  2.81s/it]\n",
      " 82%|████████▏ | 9/11 [00:23<00:05,  2.83s/it]\n",
      " 91%|█████████ | 10/11 [00:26<00:02,  2.85s/it]\n",
      "100%|██████████| 11/11 [00:28<00:00,  2.77s/it]\n",
      "                                                \r"
     ]
    },
    {
     "name": "stdout",
     "output_type": "stream",
     "text": [
      "{'eval_loss': 40.64455032348633, 'eval_runtime': 29.6893, 'eval_samples_per_second': 1.381, 'eval_steps_per_second': 0.371, 'epoch': 1.71}\n"
     ]
    },
    {
     "name": "stderr",
     "output_type": "stream",
     "text": [
      "\n",
      " 43%|████▎     | 70/164 [15:01<17:13, 10.99s/it]\n",
      "                                                \r"
     ]
    },
    {
     "name": "stdout",
     "output_type": "stream",
     "text": [
      "{'loss': 25.3626, 'grad_norm': 102.11747741699219, 'learning_rate': 8.000000000000001e-06, 'epoch': 1.95}\n"
     ]
    },
    {
     "name": "stderr",
     "output_type": "stream",
     "text": [
      " 49%|████▉     | 80/164 [16:49<14:26, 10.32s/it]\n",
      "  0%|          | 0/11 [00:00<?, ?it/s]\n",
      " 18%|█▊        | 2/11 [00:02<00:12,  1.35s/it]\n",
      " 27%|██▋       | 3/11 [00:05<00:15,  1.91s/it]\n",
      " 36%|███▋      | 4/11 [00:08<00:15,  2.21s/it]\n",
      " 45%|████▌     | 5/11 [00:10<00:14,  2.38s/it]\n",
      " 55%|█████▍    | 6/11 [00:13<00:12,  2.50s/it]\n",
      " 64%|██████▎   | 7/11 [00:16<00:10,  2.56s/it]\n",
      " 73%|███████▎  | 8/11 [00:18<00:07,  2.61s/it]\n",
      " 82%|████████▏ | 9/11 [00:21<00:05,  2.64s/it]\n",
      " 91%|█████████ | 10/11 [00:24<00:02,  2.66s/it]\n",
      "100%|██████████| 11/11 [00:26<00:00,  2.57s/it]\n",
      "                                                \r"
     ]
    },
    {
     "name": "stdout",
     "output_type": "stream",
     "text": [
      "{'eval_loss': 37.142921447753906, 'eval_runtime': 27.6478, 'eval_samples_per_second': 1.483, 'eval_steps_per_second': 0.398, 'epoch': 1.95}\n"
     ]
    },
    {
     "name": "stderr",
     "output_type": "stream",
     "text": [
      "\n",
      " 49%|████▉     | 80/164 [17:17<14:26, 10.32s/it]\n",
      "                                                \r"
     ]
    },
    {
     "name": "stdout",
     "output_type": "stream",
     "text": [
      "{'loss': 24.7703, 'grad_norm': 168.355224609375, 'learning_rate': 9e-06, 'epoch': 2.2}\n"
     ]
    },
    {
     "name": "stderr",
     "output_type": "stream",
     "text": [
      " 55%|█████▍    | 90/164 [19:05<12:36, 10.22s/it]\n",
      "  0%|          | 0/11 [00:00<?, ?it/s]\n",
      " 18%|█▊        | 2/11 [00:02<00:12,  1.39s/it]\n",
      " 27%|██▋       | 3/11 [00:05<00:15,  1.97s/it]\n",
      " 36%|███▋      | 4/11 [00:08<00:15,  2.27s/it]\n",
      " 45%|████▌     | 5/11 [00:11<00:14,  2.46s/it]\n",
      " 55%|█████▍    | 6/11 [00:13<00:12,  2.56s/it]\n",
      " 64%|██████▎   | 7/11 [00:16<00:10,  2.64s/it]\n",
      " 73%|███████▎  | 8/11 [00:19<00:08,  2.69s/it]\n",
      " 82%|████████▏ | 9/11 [00:22<00:05,  2.71s/it]\n",
      " 91%|█████████ | 10/11 [00:25<00:02,  2.73s/it]\n",
      "100%|██████████| 11/11 [00:27<00:00,  2.64s/it]\n",
      "                                                \r"
     ]
    },
    {
     "name": "stdout",
     "output_type": "stream",
     "text": [
      "{'eval_loss': 31.543981552124023, 'eval_runtime': 28.435, 'eval_samples_per_second': 1.442, 'eval_steps_per_second': 0.387, 'epoch': 2.2}\n"
     ]
    },
    {
     "name": "stderr",
     "output_type": "stream",
     "text": [
      "\n",
      " 55%|█████▍    | 90/164 [19:34<12:36, 10.22s/it]\n",
      "                                                 \r"
     ]
    },
    {
     "name": "stdout",
     "output_type": "stream",
     "text": [
      "{'loss': 19.9826, 'grad_norm': 154.60475158691406, 'learning_rate': 1e-05, 'epoch': 2.44}\n"
     ]
    },
    {
     "name": "stderr",
     "output_type": "stream",
     "text": [
      " 61%|██████    | 100/164 [21:32<11:05, 10.39s/it]\n",
      "  0%|          | 0/11 [00:00<?, ?it/s]\n",
      " 18%|█▊        | 2/11 [00:02<00:12,  1.41s/it]\n",
      " 27%|██▋       | 3/11 [00:05<00:15,  1.99s/it]\n",
      " 36%|███▋      | 4/11 [00:08<00:16,  2.30s/it]\n",
      " 45%|████▌     | 5/11 [00:11<00:14,  2.47s/it]\n",
      " 55%|█████▍    | 6/11 [00:14<00:12,  2.58s/it]\n",
      " 64%|██████▎   | 7/11 [00:16<00:10,  2.65s/it]\n",
      " 73%|███████▎  | 8/11 [00:19<00:08,  2.69s/it]\n",
      " 82%|████████▏ | 9/11 [00:22<00:05,  2.72s/it]\n",
      " 91%|█████████ | 10/11 [00:25<00:02,  2.74s/it]\n",
      "100%|██████████| 11/11 [00:27<00:00,  2.65s/it]\n",
      "                                                 \r"
     ]
    },
    {
     "name": "stdout",
     "output_type": "stream",
     "text": [
      "{'eval_loss': 24.660844802856445, 'eval_runtime': 28.5537, 'eval_samples_per_second': 1.436, 'eval_steps_per_second': 0.385, 'epoch': 2.44}\n"
     ]
    },
    {
     "name": "stderr",
     "output_type": "stream",
     "text": [
      "\n",
      " 61%|██████    | 100/164 [22:00<11:05, 10.39s/it]\n",
      "                                                 \r"
     ]
    },
    {
     "name": "stdout",
     "output_type": "stream",
     "text": [
      "{'loss': 15.9581, 'grad_norm': 92.86529541015625, 'learning_rate': 1.1000000000000001e-05, 'epoch': 2.68}\n"
     ]
    },
    {
     "name": "stderr",
     "output_type": "stream",
     "text": [
      " 67%|██████▋   | 110/164 [23:46<08:59,  9.99s/it]\n",
      "  0%|          | 0/11 [00:00<?, ?it/s]\n",
      " 18%|█▊        | 2/11 [00:02<00:12,  1.40s/it]\n",
      " 27%|██▋       | 3/11 [00:05<00:15,  1.97s/it]\n",
      " 36%|███▋      | 4/11 [00:08<00:16,  2.29s/it]\n",
      " 45%|████▌     | 5/11 [00:11<00:14,  2.46s/it]\n",
      " 55%|█████▍    | 6/11 [00:13<00:12,  2.57s/it]\n",
      " 64%|██████▎   | 7/11 [00:16<00:10,  2.64s/it]\n",
      " 73%|███████▎  | 8/11 [00:19<00:08,  2.70s/it]\n",
      " 82%|████████▏ | 9/11 [00:22<00:05,  2.73s/it]\n",
      " 91%|█████████ | 10/11 [00:25<00:02,  2.75s/it]\n",
      "100%|██████████| 11/11 [00:27<00:00,  2.65s/it]\n",
      "                                                 \r"
     ]
    },
    {
     "name": "stdout",
     "output_type": "stream",
     "text": [
      "{'eval_loss': 18.161388397216797, 'eval_runtime': 28.5285, 'eval_samples_per_second': 1.437, 'eval_steps_per_second': 0.386, 'epoch': 2.68}\n"
     ]
    },
    {
     "name": "stderr",
     "output_type": "stream",
     "text": [
      "\n",
      " 67%|██████▋   | 110/164 [24:15<08:59,  9.99s/it]\n",
      "                                                 \r"
     ]
    },
    {
     "name": "stdout",
     "output_type": "stream",
     "text": [
      "{'loss': 10.8599, 'grad_norm': 150.68785095214844, 'learning_rate': 1.2e-05, 'epoch': 2.93}\n"
     ]
    },
    {
     "name": "stderr",
     "output_type": "stream",
     "text": [
      " 73%|███████▎  | 120/164 [26:00<07:27, 10.17s/it]\n",
      "  0%|          | 0/11 [00:00<?, ?it/s]\n",
      " 18%|█▊        | 2/11 [00:02<00:12,  1.41s/it]\n",
      " 27%|██▋       | 3/11 [00:05<00:15,  1.98s/it]\n",
      " 36%|███▋      | 4/11 [00:08<00:16,  2.29s/it]\n",
      " 45%|████▌     | 5/11 [00:11<00:14,  2.46s/it]\n",
      " 55%|█████▍    | 6/11 [00:14<00:12,  2.58s/it]\n",
      " 64%|██████▎   | 7/11 [00:16<00:10,  2.65s/it]\n",
      " 73%|███████▎  | 8/11 [00:19<00:08,  2.70s/it]\n",
      " 82%|████████▏ | 9/11 [00:22<00:05,  2.73s/it]\n",
      " 91%|█████████ | 10/11 [00:25<00:02,  2.75s/it]\n",
      "100%|██████████| 11/11 [00:27<00:00,  2.65s/it]\n",
      "                                                 \r"
     ]
    },
    {
     "name": "stdout",
     "output_type": "stream",
     "text": [
      "{'eval_loss': 11.9605131149292, 'eval_runtime': 28.5585, 'eval_samples_per_second': 1.436, 'eval_steps_per_second': 0.385, 'epoch': 2.93}\n"
     ]
    },
    {
     "name": "stderr",
     "output_type": "stream",
     "text": [
      "\n",
      " 73%|███████▎  | 120/164 [26:29<07:27, 10.17s/it]\n",
      "                                                 \r"
     ]
    },
    {
     "name": "stdout",
     "output_type": "stream",
     "text": [
      "{'loss': 8.8446, 'grad_norm': 54.88754653930664, 'learning_rate': 1.3000000000000001e-05, 'epoch': 3.17}\n"
     ]
    },
    {
     "name": "stderr",
     "output_type": "stream",
     "text": [
      " 79%|███████▉  | 130/164 [28:17<05:52, 10.36s/it]\n",
      "  0%|          | 0/11 [00:00<?, ?it/s]\n",
      " 18%|█▊        | 2/11 [00:02<00:12,  1.41s/it]\n",
      " 27%|██▋       | 3/11 [00:05<00:15,  1.99s/it]\n",
      " 36%|███▋      | 4/11 [00:08<00:16,  2.29s/it]\n",
      " 45%|████▌     | 5/11 [00:11<00:14,  2.46s/it]\n",
      " 55%|█████▍    | 6/11 [00:14<00:12,  2.58s/it]\n",
      " 64%|██████▎   | 7/11 [00:16<00:10,  2.65s/it]\n",
      " 73%|███████▎  | 8/11 [00:19<00:08,  2.70s/it]\n",
      " 82%|████████▏ | 9/11 [00:22<00:05,  2.73s/it]\n",
      " 91%|█████████ | 10/11 [00:25<00:02,  2.75s/it]\n",
      "100%|██████████| 11/11 [00:27<00:00,  2.66s/it]\n",
      "                                                 \r"
     ]
    },
    {
     "name": "stdout",
     "output_type": "stream",
     "text": [
      "{'eval_loss': 6.749945640563965, 'eval_runtime': 28.5773, 'eval_samples_per_second': 1.435, 'eval_steps_per_second': 0.385, 'epoch': 3.17}\n"
     ]
    },
    {
     "name": "stderr",
     "output_type": "stream",
     "text": [
      "\n",
      " 79%|███████▉  | 130/164 [28:45<05:52, 10.36s/it]\n",
      "                                                 \r"
     ]
    },
    {
     "name": "stdout",
     "output_type": "stream",
     "text": [
      "{'loss': 5.9475, 'grad_norm': 63.631343841552734, 'learning_rate': 1.4000000000000001e-05, 'epoch': 3.41}\n"
     ]
    },
    {
     "name": "stderr",
     "output_type": "stream",
     "text": [
      " 85%|████████▌ | 140/164 [30:36<04:09, 10.40s/it]\n",
      "  0%|          | 0/11 [00:00<?, ?it/s]\n",
      " 18%|█▊        | 2/11 [00:02<00:12,  1.40s/it]\n",
      " 27%|██▋       | 3/11 [00:05<00:15,  1.98s/it]\n",
      " 36%|███▋      | 4/11 [00:08<00:15,  2.29s/it]\n",
      " 45%|████▌     | 5/11 [00:11<00:14,  2.47s/it]\n",
      " 55%|█████▍    | 6/11 [00:13<00:12,  2.57s/it]\n",
      " 64%|██████▎   | 7/11 [00:16<00:10,  2.65s/it]\n",
      " 73%|███████▎  | 8/11 [00:19<00:08,  2.70s/it]\n",
      " 82%|████████▏ | 9/11 [00:22<00:05,  2.72s/it]\n",
      " 91%|█████████ | 10/11 [00:25<00:02,  2.98s/it]\n",
      "100%|██████████| 11/11 [00:28<00:00,  2.95s/it]\n",
      "                                                 \r"
     ]
    },
    {
     "name": "stdout",
     "output_type": "stream",
     "text": [
      "{'eval_loss': 2.662419319152832, 'eval_runtime': 29.8582, 'eval_samples_per_second': 1.373, 'eval_steps_per_second': 0.368, 'epoch': 3.41}\n"
     ]
    },
    {
     "name": "stderr",
     "output_type": "stream",
     "text": [
      "\n",
      " 85%|████████▌ | 140/164 [31:06<04:09, 10.40s/it]\n",
      "                                                 \r"
     ]
    },
    {
     "name": "stdout",
     "output_type": "stream",
     "text": [
      "{'loss': 3.7464, 'grad_norm': 25.364587783813477, 'learning_rate': 1.5e-05, 'epoch': 3.66}\n"
     ]
    },
    {
     "name": "stderr",
     "output_type": "stream",
     "text": [
      " 91%|█████████▏| 150/164 [32:57<02:28, 10.61s/it]\n",
      "  0%|          | 0/11 [00:00<?, ?it/s]\n",
      " 18%|█▊        | 2/11 [00:02<00:12,  1.44s/it]\n",
      " 27%|██▋       | 3/11 [00:05<00:16,  2.02s/it]\n",
      " 36%|███▋      | 4/11 [00:08<00:16,  2.34s/it]\n",
      " 45%|████▌     | 5/11 [00:11<00:15,  2.52s/it]\n",
      " 55%|█████▍    | 6/11 [00:14<00:13,  2.63s/it]\n",
      " 64%|██████▎   | 7/11 [00:17<00:10,  2.70s/it]\n",
      " 73%|███████▎  | 8/11 [00:20<00:08,  2.75s/it]\n",
      " 82%|████████▏ | 9/11 [00:22<00:05,  2.78s/it]\n",
      " 91%|█████████ | 10/11 [00:25<00:02,  2.80s/it]\n",
      "100%|██████████| 11/11 [00:28<00:00,  2.72s/it]\n",
      "                                                 \r"
     ]
    },
    {
     "name": "stdout",
     "output_type": "stream",
     "text": [
      "{'eval_loss': 1.574991226196289, 'eval_runtime': 29.1997, 'eval_samples_per_second': 1.404, 'eval_steps_per_second': 0.377, 'epoch': 3.66}\n"
     ]
    },
    {
     "name": "stderr",
     "output_type": "stream",
     "text": [
      "\n",
      " 91%|█████████▏| 150/164 [33:26<02:28, 10.61s/it]\n",
      "                                                 \r"
     ]
    },
    {
     "name": "stdout",
     "output_type": "stream",
     "text": [
      "{'loss': 1.958, 'grad_norm': 11.010766983032227, 'learning_rate': 1.6000000000000003e-05, 'epoch': 3.9}\n"
     ]
    },
    {
     "name": "stderr",
     "output_type": "stream",
     "text": [
      " 98%|█████████▊| 160/164 [35:17<00:42, 10.62s/it]\n",
      "  0%|          | 0/11 [00:00<?, ?it/s]\n",
      " 18%|█▊        | 2/11 [00:02<00:12,  1.40s/it]\n",
      " 27%|██▋       | 3/11 [00:05<00:15,  1.98s/it]\n",
      " 36%|███▋      | 4/11 [00:08<00:16,  2.29s/it]\n",
      " 45%|████▌     | 5/11 [00:11<00:14,  2.46s/it]\n",
      " 55%|█████▍    | 6/11 [00:14<00:12,  2.59s/it]\n",
      " 64%|██████▎   | 7/11 [00:16<00:10,  2.65s/it]\n",
      " 73%|███████▎  | 8/11 [00:19<00:08,  2.69s/it]\n",
      " 82%|████████▏ | 9/11 [00:22<00:05,  2.73s/it]\n",
      " 91%|█████████ | 10/11 [00:25<00:02,  2.75s/it]\n",
      "100%|██████████| 11/11 [00:27<00:00,  2.64s/it]\n",
      "                                                 \r"
     ]
    },
    {
     "name": "stdout",
     "output_type": "stream",
     "text": [
      "{'eval_loss': 1.224413275718689, 'eval_runtime': 28.5927, 'eval_samples_per_second': 1.434, 'eval_steps_per_second': 0.385, 'epoch': 3.9}\n"
     ]
    },
    {
     "name": "stderr",
     "output_type": "stream",
     "text": [
      "\n",
      " 98%|█████████▊| 160/164 [35:45<00:42, 10.62s/it]\n",
      "                                                 \r"
     ]
    },
    {
     "name": "stdout",
     "output_type": "stream",
     "text": [
      "{'train_runtime': 2193.3333, 'train_samples_per_second': 0.299, 'train_steps_per_second': 0.075, 'train_loss': 21.632778202615132, 'epoch': 4.0}\n"
     ]
    },
    {
     "name": "stderr",
     "output_type": "stream",
     "text": [
      "100%|██████████| 164/164 [36:33<00:00, 13.37s/it]\n"
     ]
    },
    {
     "name": "stdout",
     "output_type": "stream",
     "text": [
      "Modelo salvo em ./results_model/t5_model\n",
      "Tokenizador salvo em ./results_model/t5_tokenizer\n"
     ]
    }
   ],
   "source": [
    "from transformers import AutoModelForSequenceClassification, Trainer, TrainingArguments\n",
    "import os\n",
    "import tempfile\n",
    "\n",
    "\n",
    "temp_dir = tempfile.gettempdir()\n",
    "results_dir = os.path.join(temp_dir, 'results')\n",
    "logs_dir = os.path.join(temp_dir, 'logs')\n",
    "\n",
    "\n",
    "def ensure_dir(directory):\n",
    "    if not os.path.exists(directory):\n",
    "        os.makedirs(directory)\n",
    "\n",
    "\n",
    "ensure_dir(results_dir)\n",
    "ensure_dir(logs_dir)\n",
    "\n",
    "print(f\"Results directory exists: {os.path.exists(results_dir)}\")\n",
    "print(f\"Logs directory exists: {os.path.exists(logs_dir)}\")\n",
    "\n",
    "\n",
    "training_args = TrainingArguments(\n",
    "    output_dir=results_dir,\n",
    "    num_train_epochs=4,\n",
    "    per_device_train_batch_size=4,\n",
    "    per_device_eval_batch_size=4,\n",
    "    warmup_steps=500,\n",
    "    weight_decay=0.01,\n",
    "    logging_dir=logs_dir,\n",
    "    logging_steps=10,\n",
    "    save_steps=10,\n",
    "    evaluation_strategy=\"steps\"\n",
    ")\n",
    "\n",
    "trainer = Trainer(\n",
    "    model=model,\n",
    "    args=training_args,\n",
    "    train_dataset=train_dataset,\n",
    "    eval_dataset=test_dataset,\n",
    ")\n",
    "\n",
    "\n",
    "trainer.train()\n",
    "\n",
    "model_save_path = \"./results_model/t5_model\"\n",
    "tokenizer_save_path = \"./results_model/t5_tokenizer\"\n",
    "\n",
    "\n",
    "os.makedirs(model_save_path, exist_ok=True)\n",
    "os.makedirs(tokenizer_save_path, exist_ok=True)\n",
    "\n",
    "model.save_pretrained(model_save_path)\n",
    "tokenizer.save_pretrained(tokenizer_save_path)\n",
    "\n",
    "print(f\"Modelo salvo em {model_save_path}\")\n",
    "print(f\"Tokenizador salvo em {tokenizer_save_path}\")\n"
   ]
  },
  {
   "cell_type": "code",
   "execution_count": 34,
   "metadata": {},
   "outputs": [
    {
     "name": "stdout",
     "output_type": "stream",
     "text": [
      "1728409567 Filtro De Oleo Bmw Motorrad F 800 St 2-cyl 06-12 Marca: BMW Motorrad, Número de peça: 11428409567, OEM: 11428409567, DescriçãoFILTRO DE OLEO Bmw Motorrad F 800 ST 2-Cyl 06/12Características: Condição do item: NovoMarca: Bmw MotorradMPN: 11428409567Número de peça: 11428409567OEM: 11428409567Tempo de garantia: 6 mesesTipo de Garantia: Garantia de fábricaFILTRO DE OLEOVeículos (aplicações):Bmw Motorrad F 650 GS 2-Cyl 2007/2012Bmw Motorrad F 700 GS 2-Cyl 2012/2018Bmw Motorrad F 800 GS 2-Cyl 2007/2017Bmw Motorrad F 800 GS ADV 2-Cyl 2013/2017Bmw Motorrad F 800 GT 2-Cyl 2012/2019Bmw Motorrad F 800 R 2-Cyl 2009/2019Bmw Motorrad F 800 S 2-Cyl 2006/2010Bmw Motorrad F 800 ST 2-Cyl 2006/2012\n",
      "{'catalog_catalog.code': '1728409567 Filtro De Oleo Bmw Motorrad F 800 St 2-cyl 06-12 Marca: BMW Motorrad', 'catalog_catalog.full_description': 'N/D', 'catalog_catalog.description': 'Número de peça: 11428409567', 'catalog_catalog.similar_parts': 'N/D', 'catalog_catalog.application_table': 'OEM: 11428409567', 'catalog_catalog.brand_producer': 'BMW Motorrad'}\n"
     ]
    }
   ],
   "source": [
    "def generate_output(input_text):\n",
    "  \n",
    "    inputs = tokenizer.encode(input_text, return_tensors=\"pt\", max_length=512, truncation=True).to(device)\n",
    "\n",
    "\n",
    "    outputs = model.generate(inputs, max_length=512, num_beams=4, early_stopping=True)\n",
    "    \n",
    "    # movendo de volta para a CPU \n",
    "    output_text = tokenizer.decode(outputs[0].cpu(), skip_special_tokens=True)\n",
    "    print(output_text)\n",
    "    \n",
    "    output_dict = {\n",
    "        \"catalog_catalog.code\": \"\",\n",
    "        \"catalog_catalog.full_description\": \"N/D\",\n",
    "        \"catalog_catalog.description\": \"\",\n",
    "        \"catalog_catalog.similar_parts\": \"N/D\",\n",
    "        \"catalog_catalog.application_table\": \"\",\n",
    "        \"catalog_catalog.brand_producer\": \"BMW Motorrad\"\n",
    "    }\n",
    "\n",
    "    # Parse the output_text based on your specific requirements\n",
    "    output_values = output_text.split(\",\")\n",
    "    if len(output_values) >= 1:\n",
    "        output_dict[\"catalog_catalog.code\"] = output_values[0].strip()\n",
    "    if len(output_values) >= 2:\n",
    "        output_dict[\"catalog_catalog.description\"] = output_values[1].strip()\n",
    "    if len(output_values) >= 3:\n",
    "        output_dict[\"catalog_catalog.application_table\"] = output_values[2].strip()\n",
    "\n",
    "    return output_dict\n",
    "\n",
    "# Certifique-se de que o modelo esteja na GPU\n",
    "model.to(device)\n",
    "\n",
    "input_text = \"11428409567\\tFiltro De Oleo Bmw Motorrad F 800 St 2-cyl 06-12\\tMarca: BMW Motorrad, Número de peça: 11428409567, OEM: 11428409567, \\tDescriçãoFILTRO DE OLEO Bmw Motorrad F 800 ST 2-Cyl 06/12Características: Condição do item: NovoMarca: Bmw MotorradMPN: 11428409567Número de peça: 11428409567OEM: 11428409567Tempo de garantia: 6 mesesTipo de Garantia: Garantia de fábricaFILTRO DE OLEOVeículos (aplicações):Bmw Motorrad F 650 GS 2-Cyl 2007/2012Bmw Motorrad F 700 GS 2-Cyl 2012/2018Bmw Motorrad F 800 GS 2-Cyl 2007/2017Bmw Motorrad F 800 GS ADV 2-Cyl 2013/2017Bmw Motorrad F 800 GT 2-Cyl 2012/2019Bmw Motorrad F 800 R 2-Cyl 2009/2019Bmw Motorrad F 800 S 2-Cyl 2006/2010Bmw Motorrad F 800 ST 2-Cyl 2006/2012\"\n",
    "output = generate_output(input_text)\n",
    "print(output)\n"
   ]
  }
 ],
 "metadata": {
  "kernelspec": {
   "display_name": "Python 3",
   "language": "python",
   "name": "python3"
  },
  "language_info": {
   "codemirror_mode": {
    "name": "ipython",
    "version": 3
   },
   "file_extension": ".py",
   "mimetype": "text/x-python",
   "name": "python",
   "nbconvert_exporter": "python",
   "pygments_lexer": "ipython3",
   "version": "3.11.0"
  }
 },
 "nbformat": 4,
 "nbformat_minor": 2
}
